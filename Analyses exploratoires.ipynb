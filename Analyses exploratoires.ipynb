{
 "cells": [
  {
   "cell_type": "markdown",
   "metadata": {
    "id": "FN4XIIRypsE7"
   },
   "source": [
    "# Domaine des Croix"
   ]
  },
  {
   "cell_type": "markdown",
   "metadata": {
    "id": "XcpZ5zmhshVW"
   },
   "source": [
    "Le client, le Domaine des Croix, cherche à se lancer sur le marché américain . Il souhaite donc **définir le prix** de ses bouteilles de vin **pour être compétitif sur le marché américain**. Il a récupéré un jeu de données de 130k bouteilles de vin, avec les cépages, les pays et région de production, les millésimes (c'est-à-dire les années de production), ainsi que des notes (\"points\") et descriptifs d'oenologues (les spécialistes du vin), et le prix moyen en dollars de toutes ces bouteilles sur le marché américain.\n",
    "\n",
    "\n",
    "## Jeux de données\n",
    "- Dataset des 130k vins : https://github.com/WildCodeSchool/wilddata/raw/main/wine.zip\n",
    "- Dataset de la bouteille de vin que le client aimerait proposer sur le marché américain : https://raw.githubusercontent.com/WildCodeSchool/wilddata/main/domaine_des_croix.csv\n"
   ]
  },
  {
   "cell_type": "markdown",
   "metadata": {
    "id": "QdT1jQZls0-F"
   },
   "source": [
    "## Exploration et nettoyage des données"
   ]
  },
  {
   "cell_type": "code",
   "execution_count": 24,
   "metadata": {
    "colab": {
     "base_uri": "https://localhost:8080/",
     "height": 306
    },
    "id": "r71BcQC0pyHN",
    "outputId": "fcfd5b4f-7ea8-4f78-f088-afb6a4badf2c"
   },
   "outputs": [
    {
     "data": {
      "text/html": [
       "<div>\n",
       "<style scoped>\n",
       "    .dataframe tbody tr th:only-of-type {\n",
       "        vertical-align: middle;\n",
       "    }\n",
       "\n",
       "    .dataframe tbody tr th {\n",
       "        vertical-align: top;\n",
       "    }\n",
       "\n",
       "    .dataframe thead th {\n",
       "        text-align: right;\n",
       "    }\n",
       "</style>\n",
       "<table border=\"1\" class=\"dataframe\">\n",
       "  <thead>\n",
       "    <tr style=\"text-align: right;\">\n",
       "      <th></th>\n",
       "      <th>country</th>\n",
       "      <th>description</th>\n",
       "      <th>designation</th>\n",
       "      <th>points</th>\n",
       "      <th>price</th>\n",
       "      <th>province</th>\n",
       "      <th>region_1</th>\n",
       "      <th>region_2</th>\n",
       "      <th>taster_name</th>\n",
       "      <th>taster_twitter_handle</th>\n",
       "      <th>title</th>\n",
       "      <th>variety</th>\n",
       "      <th>winery</th>\n",
       "    </tr>\n",
       "  </thead>\n",
       "  <tbody>\n",
       "    <tr>\n",
       "      <th>0</th>\n",
       "      <td>Italy</td>\n",
       "      <td>Aromas include tropical fruit, broom, brimston...</td>\n",
       "      <td>Vulkà Bianco</td>\n",
       "      <td>87</td>\n",
       "      <td>NaN</td>\n",
       "      <td>Sicily &amp; Sardinia</td>\n",
       "      <td>Etna</td>\n",
       "      <td>NaN</td>\n",
       "      <td>Kerin O’Keefe</td>\n",
       "      <td>@kerinokeefe</td>\n",
       "      <td>Nicosia 2019 Vulkà Bianco  (Etna)</td>\n",
       "      <td>White Blend</td>\n",
       "      <td>Nicosia</td>\n",
       "    </tr>\n",
       "    <tr>\n",
       "      <th>1</th>\n",
       "      <td>Portugal</td>\n",
       "      <td>This is ripe and fruity, a wine that is smooth...</td>\n",
       "      <td>Avidagos</td>\n",
       "      <td>87</td>\n",
       "      <td>20.0</td>\n",
       "      <td>Douro</td>\n",
       "      <td>NaN</td>\n",
       "      <td>NaN</td>\n",
       "      <td>Roger Voss</td>\n",
       "      <td>@vossroger</td>\n",
       "      <td>Quinta dos Avidagos 2017 Avidagos Red (Douro)</td>\n",
       "      <td>Portuguese Red</td>\n",
       "      <td>Quinta dos Avidagos</td>\n",
       "    </tr>\n",
       "    <tr>\n",
       "      <th>2</th>\n",
       "      <td>US</td>\n",
       "      <td>Tart and snappy, the flavors of lime flesh and...</td>\n",
       "      <td>NaN</td>\n",
       "      <td>87</td>\n",
       "      <td>18.0</td>\n",
       "      <td>Oregon</td>\n",
       "      <td>Willamette Valley</td>\n",
       "      <td>Willamette Valley</td>\n",
       "      <td>Paul Gregutt</td>\n",
       "      <td>@paulgwine</td>\n",
       "      <td>Rainstorm 2019 Pinot Gris (Willamette Valley)</td>\n",
       "      <td>Pinot Gris</td>\n",
       "      <td>Rainstorm</td>\n",
       "    </tr>\n",
       "    <tr>\n",
       "      <th>3</th>\n",
       "      <td>US</td>\n",
       "      <td>Pineapple rind, lemon pith and orange blossom ...</td>\n",
       "      <td>Reserve Late Harvest</td>\n",
       "      <td>87</td>\n",
       "      <td>18.0</td>\n",
       "      <td>Michigan</td>\n",
       "      <td>Lake Michigan Shore</td>\n",
       "      <td>NaN</td>\n",
       "      <td>Alexander Peartree</td>\n",
       "      <td>NaN</td>\n",
       "      <td>St. Julian 2019 Reserve Late Harvest Riesling ...</td>\n",
       "      <td>Riesling</td>\n",
       "      <td>St. Julian</td>\n",
       "    </tr>\n",
       "    <tr>\n",
       "      <th>4</th>\n",
       "      <td>US</td>\n",
       "      <td>Much like the regular bottling from 2016, this...</td>\n",
       "      <td>Vintner's Reserve Wild Child Block</td>\n",
       "      <td>87</td>\n",
       "      <td>44.0</td>\n",
       "      <td>Oregon</td>\n",
       "      <td>Willamette Valley</td>\n",
       "      <td>Willamette Valley</td>\n",
       "      <td>Paul Gregutt</td>\n",
       "      <td>@paulgwine</td>\n",
       "      <td>Sweet Cheeks 2018 Vintner's Reserve Wild Child...</td>\n",
       "      <td>Pinot Noir</td>\n",
       "      <td>Sweet Cheeks</td>\n",
       "    </tr>\n",
       "  </tbody>\n",
       "</table>\n",
       "</div>"
      ],
      "text/plain": [
       "    country                                        description  \\\n",
       "0     Italy  Aromas include tropical fruit, broom, brimston...   \n",
       "1  Portugal  This is ripe and fruity, a wine that is smooth...   \n",
       "2        US  Tart and snappy, the flavors of lime flesh and...   \n",
       "3        US  Pineapple rind, lemon pith and orange blossom ...   \n",
       "4        US  Much like the regular bottling from 2016, this...   \n",
       "\n",
       "                          designation  points  price           province  \\\n",
       "0                        Vulkà Bianco      87    NaN  Sicily & Sardinia   \n",
       "1                            Avidagos      87   20.0              Douro   \n",
       "2                                 NaN      87   18.0             Oregon   \n",
       "3                Reserve Late Harvest      87   18.0           Michigan   \n",
       "4  Vintner's Reserve Wild Child Block      87   44.0             Oregon   \n",
       "\n",
       "              region_1           region_2         taster_name  \\\n",
       "0                 Etna                NaN       Kerin O’Keefe   \n",
       "1                  NaN                NaN          Roger Voss   \n",
       "2    Willamette Valley  Willamette Valley        Paul Gregutt   \n",
       "3  Lake Michigan Shore                NaN  Alexander Peartree   \n",
       "4    Willamette Valley  Willamette Valley        Paul Gregutt   \n",
       "\n",
       "  taster_twitter_handle                                              title  \\\n",
       "0          @kerinokeefe                  Nicosia 2019 Vulkà Bianco  (Etna)   \n",
       "1            @vossroger      Quinta dos Avidagos 2017 Avidagos Red (Douro)   \n",
       "2           @paulgwine       Rainstorm 2019 Pinot Gris (Willamette Valley)   \n",
       "3                   NaN  St. Julian 2019 Reserve Late Harvest Riesling ...   \n",
       "4           @paulgwine   Sweet Cheeks 2018 Vintner's Reserve Wild Child...   \n",
       "\n",
       "          variety               winery  \n",
       "0     White Blend              Nicosia  \n",
       "1  Portuguese Red  Quinta dos Avidagos  \n",
       "2      Pinot Gris            Rainstorm  \n",
       "3        Riesling           St. Julian  \n",
       "4      Pinot Noir         Sweet Cheeks  "
      ]
     },
     "execution_count": 24,
     "metadata": {},
     "output_type": "execute_result"
    }
   ],
   "source": [
    "import pandas as pd\n",
    "\n",
    "link = \"https://github.com/WildCodeSchool/wilddata/raw/main/wine.zip\"\n",
    "df_wine = pd.read_csv(link)\n",
    "\n",
    "df_wine.head()"
   ]
  },
  {
   "cell_type": "code",
   "execution_count": 17,
   "metadata": {
    "colab": {
     "base_uri": "https://localhost:8080/",
     "height": 188
    },
    "id": "7RLwx-ZptaP9",
    "outputId": "ae9d4916-0e9f-4171-a85f-5688c07c28c7"
   },
   "outputs": [
    {
     "data": {
      "text/html": [
       "<div>\n",
       "<style scoped>\n",
       "    .dataframe tbody tr th:only-of-type {\n",
       "        vertical-align: middle;\n",
       "    }\n",
       "\n",
       "    .dataframe tbody tr th {\n",
       "        vertical-align: top;\n",
       "    }\n",
       "\n",
       "    .dataframe thead th {\n",
       "        text-align: right;\n",
       "    }\n",
       "</style>\n",
       "<table border=\"1\" class=\"dataframe\">\n",
       "  <thead>\n",
       "    <tr style=\"text-align: right;\">\n",
       "      <th></th>\n",
       "      <th>country</th>\n",
       "      <th>description</th>\n",
       "      <th>designation</th>\n",
       "      <th>points</th>\n",
       "      <th>price</th>\n",
       "      <th>province</th>\n",
       "      <th>region_1</th>\n",
       "      <th>region_2</th>\n",
       "      <th>taster_name</th>\n",
       "      <th>taster_twitter_handle</th>\n",
       "      <th>title</th>\n",
       "      <th>variety</th>\n",
       "      <th>winery</th>\n",
       "    </tr>\n",
       "  </thead>\n",
       "  <tbody>\n",
       "    <tr>\n",
       "      <th>0</th>\n",
       "      <td>France</td>\n",
       "      <td>Firm and solid with great swathes of black fru...</td>\n",
       "      <td>NaN</td>\n",
       "      <td>94</td>\n",
       "      <td>NaN</td>\n",
       "      <td>Burgundy</td>\n",
       "      <td>Corton Grèves</td>\n",
       "      <td>NaN</td>\n",
       "      <td>Roger Voss</td>\n",
       "      <td>@vossroger</td>\n",
       "      <td>Domaine des Croix 2016  Corton Grèves</td>\n",
       "      <td>Pinot Noir</td>\n",
       "      <td>Domaine des Croix</td>\n",
       "    </tr>\n",
       "  </tbody>\n",
       "</table>\n",
       "</div>"
      ],
      "text/plain": [
       "  country                                        description  designation  \\\n",
       "0  France  Firm and solid with great swathes of black fru...          NaN   \n",
       "\n",
       "   points  price  province       region_1  region_2 taster_name  \\\n",
       "0      94    NaN  Burgundy  Corton Grèves       NaN  Roger Voss   \n",
       "\n",
       "  taster_twitter_handle                                  title     variety  \\\n",
       "0            @vossroger  Domaine des Croix 2016  Corton Grèves  Pinot Noir   \n",
       "\n",
       "              winery  \n",
       "0  Domaine des Croix  "
      ]
     },
     "execution_count": 17,
     "metadata": {},
     "output_type": "execute_result"
    }
   ],
   "source": [
    "# J'importe le dataset du client\n",
    "\n",
    "data_ddc = \"https://raw.githubusercontent.com/WildCodeSchool/wilddata/main/domaine_des_croix.csv\"\n",
    "\n",
    "df_ddc = pd.read_csv(data_ddc)\n",
    "\n",
    "df_ddc"
   ]
  },
  {
   "cell_type": "code",
   "execution_count": 25,
   "metadata": {
    "colab": {
     "base_uri": "https://localhost:8080/"
    },
    "id": "p53WHa3cgMEx",
    "outputId": "9d8ac67a-8ca6-4407-c505-61ed4f49d92e"
   },
   "outputs": [
    {
     "name": "stdout",
     "output_type": "stream",
     "text": [
      "<class 'pandas.core.frame.DataFrame'>\n",
      "RangeIndex: 129957 entries, 0 to 129956\n",
      "Data columns (total 13 columns):\n",
      " #   Column                 Non-Null Count   Dtype  \n",
      "---  ------                 --------------   -----  \n",
      " 0   country                129894 non-null  object \n",
      " 1   description            129957 non-null  object \n",
      " 2   designation            92497 non-null   object \n",
      " 3   points                 129957 non-null  int64  \n",
      " 4   price                  120964 non-null  float64\n",
      " 5   province               129894 non-null  object \n",
      " 6   region_1               108710 non-null  object \n",
      " 7   region_2               50511 non-null   object \n",
      " 8   taster_name            103713 non-null  object \n",
      " 9   taster_twitter_handle  98744 non-null   object \n",
      " 10  title                  129957 non-null  object \n",
      " 11  variety                129956 non-null  object \n",
      " 12  winery                 129957 non-null  object \n",
      "dtypes: float64(1), int64(1), object(11)\n",
      "memory usage: 12.9+ MB\n"
     ]
    }
   ],
   "source": [
    "# Je commence par une analyse rapide de mon dataset\n",
    "\n",
    "df_wine.info()"
   ]
  },
  {
   "cell_type": "markdown",
   "metadata": {},
   "source": [
    "### Premièr coup d'oeil\n",
    "\n",
    "- Presque 130000 références de vin\n",
    "- Beaucoup de valeurs manquantes\n",
    "- Certaines colonnes ne nous seront pas utiles \n",
    "- Pas d'erreur visible sur les types de données"
   ]
  },
  {
   "cell_type": "code",
   "execution_count": 19,
   "metadata": {},
   "outputs": [
    {
     "data": {
      "text/html": [
       "<div>\n",
       "<style scoped>\n",
       "    .dataframe tbody tr th:only-of-type {\n",
       "        vertical-align: middle;\n",
       "    }\n",
       "\n",
       "    .dataframe tbody tr th {\n",
       "        vertical-align: top;\n",
       "    }\n",
       "\n",
       "    .dataframe thead th {\n",
       "        text-align: right;\n",
       "    }\n",
       "</style>\n",
       "<table border=\"1\" class=\"dataframe\">\n",
       "  <thead>\n",
       "    <tr style=\"text-align: right;\">\n",
       "      <th></th>\n",
       "      <th>points</th>\n",
       "      <th>price</th>\n",
       "    </tr>\n",
       "  </thead>\n",
       "  <tbody>\n",
       "    <tr>\n",
       "      <th>count</th>\n",
       "      <td>129957.000000</td>\n",
       "      <td>120964.000000</td>\n",
       "    </tr>\n",
       "    <tr>\n",
       "      <th>mean</th>\n",
       "      <td>88.446655</td>\n",
       "      <td>36.390827</td>\n",
       "    </tr>\n",
       "    <tr>\n",
       "      <th>std</th>\n",
       "      <td>3.039481</td>\n",
       "      <td>32.802430</td>\n",
       "    </tr>\n",
       "    <tr>\n",
       "      <th>min</th>\n",
       "      <td>80.000000</td>\n",
       "      <td>2.000000</td>\n",
       "    </tr>\n",
       "    <tr>\n",
       "      <th>25%</th>\n",
       "      <td>86.000000</td>\n",
       "      <td>21.000000</td>\n",
       "    </tr>\n",
       "    <tr>\n",
       "      <th>50%</th>\n",
       "      <td>88.000000</td>\n",
       "      <td>29.000000</td>\n",
       "    </tr>\n",
       "    <tr>\n",
       "      <th>75%</th>\n",
       "      <td>91.000000</td>\n",
       "      <td>42.000000</td>\n",
       "    </tr>\n",
       "    <tr>\n",
       "      <th>max</th>\n",
       "      <td>100.000000</td>\n",
       "      <td>1902.000000</td>\n",
       "    </tr>\n",
       "  </tbody>\n",
       "</table>\n",
       "</div>"
      ],
      "text/plain": [
       "              points          price\n",
       "count  129957.000000  120964.000000\n",
       "mean       88.446655      36.390827\n",
       "std         3.039481      32.802430\n",
       "min        80.000000       2.000000\n",
       "25%        86.000000      21.000000\n",
       "50%        88.000000      29.000000\n",
       "75%        91.000000      42.000000\n",
       "max       100.000000    1902.000000"
      ]
     },
     "execution_count": 19,
     "metadata": {},
     "output_type": "execute_result"
    }
   ],
   "source": [
    "# Affichage des statistiques descriptives\n",
    "df_wine.describe()"
   ]
  },
  {
   "cell_type": "markdown",
   "metadata": {},
   "source": [
    "Concernant les points (notes) :\n",
    "- Très bonne moyenne de 88 points\n",
    "- Ecart type faible\n",
    "- Aucun vin noté en dessous de 80 points\n",
    "\n",
    "Concernant les prix : \n",
    "- Grande variabilité des prix si l'on juge la moyenne et l'écart-type.\n",
    "Le (ou les) outliers y sont pour quelque chose\n",
    "- 75% des vins sont en dessous de 42$, c'est autant de\n",
    "concurence en moins selon notre stratégie de positionnement\n",
    "- Présence de vins d'exceptions (outliers) à 1902$ \n",
    "la bouteille qui ne viendra pas gêner notre analyse"
   ]
  },
  {
   "cell_type": "code",
   "execution_count": 27,
   "metadata": {},
   "outputs": [
    {
     "data": {
      "text/plain": [
       "country                     63\n",
       "description                  0\n",
       "designation              37460\n",
       "points                       0\n",
       "price                     8993\n",
       "province                    63\n",
       "region_1                 21247\n",
       "region_2                 79446\n",
       "taster_name              26244\n",
       "taster_twitter_handle    31213\n",
       "title                        0\n",
       "variety                      1\n",
       "winery                       0\n",
       "dtype: int64"
      ]
     },
     "execution_count": 27,
     "metadata": {},
     "output_type": "execute_result"
    }
   ],
   "source": [
    "# Je regarde mes valeurs nulles\n",
    "\n",
    "df_wine.isna().sum()"
   ]
  },
  {
   "cell_type": "markdown",
   "metadata": {},
   "source": [
    "Les cellules à faibles valeurs : \n",
    "- region_2, avec plus de 60% de valeurs nulles\n",
    "- taster_name, je ne vais pas m'en servir pour mon analyse\n",
    "- taster_twitter-handle, encore moins\n",
    "\n",
    "Je garde mes autres colonnes, certaines me seront peut-être utiles\n",
    "pour la mise en forme de mon Dashboard.\n",
    "\n"
   ]
  },
  {
   "cell_type": "markdown",
   "metadata": {
    "id": "PKeCgnfuffDR"
   },
   "source": [
    "# Nettoyage du dataset"
   ]
  },
  {
   "cell_type": "code",
   "execution_count": 28,
   "metadata": {
    "id": "5UNJVlf4dsRr"
   },
   "outputs": [],
   "source": [
    "# Je commence par mettre de côté mes colonnes à faible valeur \n",
    "\n",
    "df_wine = df_wine.drop(['taster_twitter_handle', 'taster_name', 'region_2'], axis=1)"
   ]
  },
  {
   "cell_type": "code",
   "execution_count": null,
   "metadata": {},
   "outputs": [
    {
     "name": "stdout",
     "output_type": "stream",
     "text": [
      "<class 'pandas.core.frame.DataFrame'>\n",
      "RangeIndex: 129957 entries, 0 to 129956\n",
      "Data columns (total 10 columns):\n",
      " #   Column       Non-Null Count   Dtype  \n",
      "---  ------       --------------   -----  \n",
      " 0   country      129894 non-null  object \n",
      " 1   description  129957 non-null  object \n",
      " 2   designation  92497 non-null   object \n",
      " 3   points       129957 non-null  int64  \n",
      " 4   price        120964 non-null  float64\n",
      " 5   province     129894 non-null  object \n",
      " 6   region_1     108710 non-null  object \n",
      " 7   title        129957 non-null  object \n",
      " 8   variety      129956 non-null  object \n",
      " 9   winery       129957 non-null  object \n",
      "dtypes: float64(1), int64(1), object(8)\n",
      "memory usage: 9.9+ MB\n"
     ]
    }
   ],
   "source": [
    "# Petite vérification\n",
    "df_wine.info()"
   ]
  },
  {
   "cell_type": "code",
   "execution_count": 30,
   "metadata": {
    "id": "nMumm3vBgGzT"
   },
   "outputs": [],
   "source": [
    "# Grâce à une Regex, j'extrait mes millesimes de la colonne title\n",
    "# que je stocke dans une nouvelle colonne ['millesime']\n",
    "\n",
    "import re\n",
    "\n",
    "df_wine['millesime'] = df_wine['title'].str.extract(r\"(\\d{4})\").astype(str)"
   ]
  },
  {
   "cell_type": "code",
   "execution_count": 31,
   "metadata": {
    "id": "Z1pdZjWAmBH9"
   },
   "outputs": [],
   "source": [
    "# Je me sépare de toutes les bouteilles étiquettées 'champagne'\n",
    "# Je fais un masque booleen pour conserver l'inverse de ma condition\n",
    "\n",
    "df_wine = df_wine[~df_wine['title'].str.contains(\"champagne\", case=False, na=False)]"
   ]
  },
  {
   "cell_type": "code",
   "execution_count": 32,
   "metadata": {
    "id": "BZxRmFmeqUWg"
   },
   "outputs": [],
   "source": [
    "# Je supprime les lignes sans pays et region\n",
    "df_wine = df_wine[df_wine['country'].notna()]"
   ]
  },
  {
   "cell_type": "code",
   "execution_count": 33,
   "metadata": {
    "id": "YwvD27BALmSn"
   },
   "outputs": [],
   "source": [
    "# Je supprime les lignes sans prix\n",
    "df_wine = df_wine.dropna(subset=['price'])"
   ]
  },
  {
   "cell_type": "code",
   "execution_count": 34,
   "metadata": {
    "colab": {
     "base_uri": "https://localhost:8080/"
    },
    "id": "B5Kt6s6aZYKt",
    "outputId": "1af372be-466b-44f2-a8cd-a29778ca480c"
   },
   "outputs": [
    {
     "name": "stdout",
     "output_type": "stream",
     "text": [
      "<class 'pandas.core.frame.DataFrame'>\n",
      "Index: 119516 entries, 1 to 129956\n",
      "Data columns (total 11 columns):\n",
      " #   Column       Non-Null Count   Dtype  \n",
      "---  ------       --------------   -----  \n",
      " 0   country      119516 non-null  object \n",
      " 1   description  119516 non-null  object \n",
      " 2   designation  84753 non-null   object \n",
      " 3   points       119516 non-null  int64  \n",
      " 4   price        119516 non-null  float64\n",
      " 5   province     119516 non-null  object \n",
      " 6   region_1     100000 non-null  object \n",
      " 7   title        119516 non-null  object \n",
      " 8   variety      119515 non-null  object \n",
      " 9   winery       119516 non-null  object \n",
      " 10  millesime    119516 non-null  object \n",
      "dtypes: float64(1), int64(1), object(9)\n",
      "memory usage: 10.9+ MB\n"
     ]
    }
   ],
   "source": [
    "# Petit point vérification\n",
    "df_wine.info()"
   ]
  },
  {
   "cell_type": "code",
   "execution_count": 35,
   "metadata": {
    "id": "wKFlZJRFXxyY"
   },
   "outputs": [],
   "source": [
    "# Je rempli mes millesimes 'nan' par 'NC' (Non communiqué)\n",
    "df_wine['millesime'] = df_wine['millesime'].fillna(\"NC\").astype(str)"
   ]
  },
  {
   "cell_type": "code",
   "execution_count": 36,
   "metadata": {
    "id": "kqZuUw8MMI1X"
   },
   "outputs": [],
   "source": [
    "# Je rempli toutes mes autres valeurs textuels vide par NC également\n",
    "df_wine = df_wine.fillna('NC')\n"
   ]
  },
  {
   "cell_type": "code",
   "execution_count": 37,
   "metadata": {
    "colab": {
     "base_uri": "https://localhost:8080/"
    },
    "id": "LroNCQiHSnO8",
    "outputId": "dbb262eb-1c8a-4a83-ab37-9a4aaf88d73f"
   },
   "outputs": [
    {
     "data": {
      "text/plain": [
       "9277"
      ]
     },
     "execution_count": 37,
     "metadata": {},
     "output_type": "execute_result"
    }
   ],
   "source": [
    "# Je regarde si j'ai des doublons\n",
    "df_wine.duplicated().sum()"
   ]
  },
  {
   "cell_type": "code",
   "execution_count": 38,
   "metadata": {
    "id": "3h6juFj_SJ2f"
   },
   "outputs": [],
   "source": [
    "# 9277 doublons, je supprime\n",
    "df_wine = df_wine.drop_duplicates()"
   ]
  },
  {
   "cell_type": "code",
   "execution_count": 39,
   "metadata": {
    "colab": {
     "base_uri": "https://localhost:8080/"
    },
    "id": "0NoErrw9SSy1",
    "outputId": "3b899822-9839-466c-b8bd-497fa0b8cd3d"
   },
   "outputs": [
    {
     "name": "stdout",
     "output_type": "stream",
     "text": [
      "<class 'pandas.core.frame.DataFrame'>\n",
      "Index: 110239 entries, 1 to 129956\n",
      "Data columns (total 11 columns):\n",
      " #   Column       Non-Null Count   Dtype  \n",
      "---  ------       --------------   -----  \n",
      " 0   country      110239 non-null  object \n",
      " 1   description  110239 non-null  object \n",
      " 2   designation  110239 non-null  object \n",
      " 3   points       110239 non-null  int64  \n",
      " 4   price        110239 non-null  float64\n",
      " 5   province     110239 non-null  object \n",
      " 6   region_1     110239 non-null  object \n",
      " 7   title        110239 non-null  object \n",
      " 8   variety      110239 non-null  object \n",
      " 9   winery       110239 non-null  object \n",
      " 10  millesime    110239 non-null  object \n",
      "dtypes: float64(1), int64(1), object(9)\n",
      "memory usage: 10.1+ MB\n"
     ]
    }
   ],
   "source": [
    "# Point vérification\n",
    "df_wine.info()"
   ]
  },
  {
   "cell_type": "code",
   "execution_count": 40,
   "metadata": {
    "id": "lKsv0relmztb"
   },
   "outputs": [],
   "source": [
    "# Je reset mes index pour être bien propre\n",
    "df_wine.reset_index(drop=True, inplace=True)"
   ]
  },
  {
   "cell_type": "code",
   "execution_count": 41,
   "metadata": {},
   "outputs": [
    {
     "data": {
      "text/html": [
       "<div>\n",
       "<style scoped>\n",
       "    .dataframe tbody tr th:only-of-type {\n",
       "        vertical-align: middle;\n",
       "    }\n",
       "\n",
       "    .dataframe tbody tr th {\n",
       "        vertical-align: top;\n",
       "    }\n",
       "\n",
       "    .dataframe thead th {\n",
       "        text-align: right;\n",
       "    }\n",
       "</style>\n",
       "<table border=\"1\" class=\"dataframe\">\n",
       "  <thead>\n",
       "    <tr style=\"text-align: right;\">\n",
       "      <th></th>\n",
       "      <th>country</th>\n",
       "      <th>description</th>\n",
       "      <th>designation</th>\n",
       "      <th>points</th>\n",
       "      <th>price</th>\n",
       "      <th>province</th>\n",
       "      <th>region_1</th>\n",
       "      <th>title</th>\n",
       "      <th>variety</th>\n",
       "      <th>winery</th>\n",
       "      <th>millesime</th>\n",
       "    </tr>\n",
       "  </thead>\n",
       "  <tbody>\n",
       "    <tr>\n",
       "      <th>0</th>\n",
       "      <td>Portugal</td>\n",
       "      <td>This is ripe and fruity, a wine that is smooth...</td>\n",
       "      <td>Avidagos</td>\n",
       "      <td>87</td>\n",
       "      <td>20.0</td>\n",
       "      <td>Douro</td>\n",
       "      <td>NC</td>\n",
       "      <td>Quinta dos Avidagos 2017 Avidagos Red (Douro)</td>\n",
       "      <td>Portuguese Red</td>\n",
       "      <td>Quinta dos Avidagos</td>\n",
       "      <td>2017</td>\n",
       "    </tr>\n",
       "    <tr>\n",
       "      <th>1</th>\n",
       "      <td>US</td>\n",
       "      <td>Tart and snappy, the flavors of lime flesh and...</td>\n",
       "      <td>NC</td>\n",
       "      <td>87</td>\n",
       "      <td>18.0</td>\n",
       "      <td>Oregon</td>\n",
       "      <td>Willamette Valley</td>\n",
       "      <td>Rainstorm 2019 Pinot Gris (Willamette Valley)</td>\n",
       "      <td>Pinot Gris</td>\n",
       "      <td>Rainstorm</td>\n",
       "      <td>2019</td>\n",
       "    </tr>\n",
       "    <tr>\n",
       "      <th>2</th>\n",
       "      <td>US</td>\n",
       "      <td>Pineapple rind, lemon pith and orange blossom ...</td>\n",
       "      <td>Reserve Late Harvest</td>\n",
       "      <td>87</td>\n",
       "      <td>18.0</td>\n",
       "      <td>Michigan</td>\n",
       "      <td>Lake Michigan Shore</td>\n",
       "      <td>St. Julian 2019 Reserve Late Harvest Riesling ...</td>\n",
       "      <td>Riesling</td>\n",
       "      <td>St. Julian</td>\n",
       "      <td>2019</td>\n",
       "    </tr>\n",
       "    <tr>\n",
       "      <th>3</th>\n",
       "      <td>US</td>\n",
       "      <td>Much like the regular bottling from 2016, this...</td>\n",
       "      <td>Vintner's Reserve Wild Child Block</td>\n",
       "      <td>87</td>\n",
       "      <td>44.0</td>\n",
       "      <td>Oregon</td>\n",
       "      <td>Willamette Valley</td>\n",
       "      <td>Sweet Cheeks 2018 Vintner's Reserve Wild Child...</td>\n",
       "      <td>Pinot Noir</td>\n",
       "      <td>Sweet Cheeks</td>\n",
       "      <td>2018</td>\n",
       "    </tr>\n",
       "    <tr>\n",
       "      <th>4</th>\n",
       "      <td>Spain</td>\n",
       "      <td>Blackberry and raspberry aromas show a typical...</td>\n",
       "      <td>Ars In Vitro</td>\n",
       "      <td>87</td>\n",
       "      <td>20.0</td>\n",
       "      <td>Northern Spain</td>\n",
       "      <td>Navarra</td>\n",
       "      <td>Tandem 2017 Ars In Vitro Tempranillo-Merlot (N...</td>\n",
       "      <td>Tempranillo-Merlot</td>\n",
       "      <td>Tandem</td>\n",
       "      <td>2017</td>\n",
       "    </tr>\n",
       "  </tbody>\n",
       "</table>\n",
       "</div>"
      ],
      "text/plain": [
       "    country                                        description  \\\n",
       "0  Portugal  This is ripe and fruity, a wine that is smooth...   \n",
       "1        US  Tart and snappy, the flavors of lime flesh and...   \n",
       "2        US  Pineapple rind, lemon pith and orange blossom ...   \n",
       "3        US  Much like the regular bottling from 2016, this...   \n",
       "4     Spain  Blackberry and raspberry aromas show a typical...   \n",
       "\n",
       "                          designation  points  price        province  \\\n",
       "0                            Avidagos      87   20.0           Douro   \n",
       "1                                  NC      87   18.0          Oregon   \n",
       "2                Reserve Late Harvest      87   18.0        Michigan   \n",
       "3  Vintner's Reserve Wild Child Block      87   44.0          Oregon   \n",
       "4                        Ars In Vitro      87   20.0  Northern Spain   \n",
       "\n",
       "              region_1                                              title  \\\n",
       "0                   NC      Quinta dos Avidagos 2017 Avidagos Red (Douro)   \n",
       "1    Willamette Valley      Rainstorm 2019 Pinot Gris (Willamette Valley)   \n",
       "2  Lake Michigan Shore  St. Julian 2019 Reserve Late Harvest Riesling ...   \n",
       "3    Willamette Valley  Sweet Cheeks 2018 Vintner's Reserve Wild Child...   \n",
       "4              Navarra  Tandem 2017 Ars In Vitro Tempranillo-Merlot (N...   \n",
       "\n",
       "              variety               winery millesime  \n",
       "0      Portuguese Red  Quinta dos Avidagos      2017  \n",
       "1          Pinot Gris            Rainstorm      2019  \n",
       "2            Riesling           St. Julian      2019  \n",
       "3          Pinot Noir         Sweet Cheeks      2018  \n",
       "4  Tempranillo-Merlot               Tandem      2017  "
      ]
     },
     "execution_count": 41,
     "metadata": {},
     "output_type": "execute_result"
    }
   ],
   "source": [
    "# J'affiche mon dataset optimisé\n",
    "df_wine.head()"
   ]
  },
  {
   "cell_type": "code",
   "execution_count": null,
   "metadata": {
    "id": "SsafII0xwrUb"
   },
   "outputs": [],
   "source": [
    "# Mon dataset est désormais nettoyé et optimisé, j'exporte...\n",
    "df_wine.to_csv('data_wine.csv', index=False)"
   ]
  },
  {
   "cell_type": "markdown",
   "metadata": {},
   "source": [
    "## Conclusion\n",
    "\n",
    "- Je passe d'un dataset de presque 130000 références à 110000.\n",
    "- Le nettoyage à permis de conserver **85%** de mes données initiales. "
   ]
  }
 ],
 "metadata": {
  "colab": {
   "collapsed_sections": [
    "YMV2M2XSih5c",
    "HZGKMUsMoDM4"
   ],
   "provenance": []
  },
  "kernelspec": {
   "display_name": "base",
   "language": "python",
   "name": "python3"
  },
  "language_info": {
   "codemirror_mode": {
    "name": "ipython",
    "version": 3
   },
   "file_extension": ".py",
   "mimetype": "text/x-python",
   "name": "python",
   "nbconvert_exporter": "python",
   "pygments_lexer": "ipython3",
   "version": "3.12.4"
  }
 },
 "nbformat": 4,
 "nbformat_minor": 0
}
